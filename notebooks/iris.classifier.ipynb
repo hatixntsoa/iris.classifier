{
 "cells": [
  {
   "cell_type": "markdown",
   "id": "8b8f5fa9",
   "metadata": {
    "papermill": {
     "duration": 0.003499,
     "end_time": "2025-09-23T12:39:07.216776",
     "exception": false,
     "start_time": "2025-09-23T12:39:07.213277",
     "status": "completed"
    },
    "tags": []
   },
   "source": [
    "# Iris Classifier\n",
    "\n",
    "Beginner Machine Learning Project - Classifier using Linear Regression\n",
    "\n",
    "___\n",
    "\n",
    "### Machine Leaning Process\n",
    "\n",
    "- Loading data\n",
    "- Preprocessing\n",
    "- Model training\n",
    "- Model evaluation\n",
    "- Predictions"
   ]
  },
  {
   "cell_type": "code",
   "execution_count": 1,
   "id": "3c438cf3",
   "metadata": {
    "execution": {
     "iopub.execute_input": "2025-09-23T12:39:07.224404Z",
     "iopub.status.busy": "2025-09-23T12:39:07.224002Z",
     "iopub.status.idle": "2025-09-23T12:39:12.133252Z",
     "shell.execute_reply": "2025-09-23T12:39:12.132033Z"
    },
    "papermill": {
     "duration": 4.915034,
     "end_time": "2025-09-23T12:39:12.135117",
     "exception": false,
     "start_time": "2025-09-23T12:39:07.220083",
     "status": "completed"
    },
    "tags": []
   },
   "outputs": [],
   "source": [
    "# Import needed dependencies\n",
    "import pandas as pd\n",
    "import numpy as np\n",
    "\n",
    "from sklearn.linear_model import LogisticRegression\n",
    "from sklearn.model_selection import train_test_split\n",
    "from sklearn.preprocessing import StandardScaler\n",
    "from sklearn.metrics import accuracy_score"
   ]
  },
  {
   "cell_type": "code",
   "execution_count": 2,
   "id": "224ad0aa",
   "metadata": {
    "execution": {
     "iopub.execute_input": "2025-09-23T12:39:12.142800Z",
     "iopub.status.busy": "2025-09-23T12:39:12.142191Z",
     "iopub.status.idle": "2025-09-23T12:39:12.389495Z",
     "shell.execute_reply": "2025-09-23T12:39:12.388002Z"
    },
    "papermill": {
     "duration": 0.252988,
     "end_time": "2025-09-23T12:39:12.391237",
     "exception": false,
     "start_time": "2025-09-23T12:39:12.138249",
     "status": "completed"
    },
    "tags": []
   },
   "outputs": [
    {
     "data": {
      "text/html": [
       "<div>\n",
       "<style scoped>\n",
       "    .dataframe tbody tr th:only-of-type {\n",
       "        vertical-align: middle;\n",
       "    }\n",
       "\n",
       "    .dataframe tbody tr th {\n",
       "        vertical-align: top;\n",
       "    }\n",
       "\n",
       "    .dataframe thead th {\n",
       "        text-align: right;\n",
       "    }\n",
       "</style>\n",
       "<table border=\"1\" class=\"dataframe\">\n",
       "  <thead>\n",
       "    <tr style=\"text-align: right;\">\n",
       "      <th></th>\n",
       "      <th>sepal_length</th>\n",
       "      <th>sepal_width</th>\n",
       "      <th>petal_length</th>\n",
       "      <th>petal_width</th>\n",
       "      <th>species</th>\n",
       "    </tr>\n",
       "  </thead>\n",
       "  <tbody>\n",
       "    <tr>\n",
       "      <th>0</th>\n",
       "      <td>5.1</td>\n",
       "      <td>3.5</td>\n",
       "      <td>1.4</td>\n",
       "      <td>0.2</td>\n",
       "      <td>Iris-setosa</td>\n",
       "    </tr>\n",
       "    <tr>\n",
       "      <th>1</th>\n",
       "      <td>4.9</td>\n",
       "      <td>3.0</td>\n",
       "      <td>1.4</td>\n",
       "      <td>0.2</td>\n",
       "      <td>Iris-setosa</td>\n",
       "    </tr>\n",
       "    <tr>\n",
       "      <th>2</th>\n",
       "      <td>4.7</td>\n",
       "      <td>3.2</td>\n",
       "      <td>1.3</td>\n",
       "      <td>0.2</td>\n",
       "      <td>Iris-setosa</td>\n",
       "    </tr>\n",
       "    <tr>\n",
       "      <th>3</th>\n",
       "      <td>4.6</td>\n",
       "      <td>3.1</td>\n",
       "      <td>1.5</td>\n",
       "      <td>0.2</td>\n",
       "      <td>Iris-setosa</td>\n",
       "    </tr>\n",
       "    <tr>\n",
       "      <th>4</th>\n",
       "      <td>5.0</td>\n",
       "      <td>3.6</td>\n",
       "      <td>1.4</td>\n",
       "      <td>0.2</td>\n",
       "      <td>Iris-setosa</td>\n",
       "    </tr>\n",
       "  </tbody>\n",
       "</table>\n",
       "</div>"
      ],
      "text/plain": [
       "   sepal_length  sepal_width  petal_length  petal_width      species\n",
       "0           5.1          3.5           1.4          0.2  Iris-setosa\n",
       "1           4.9          3.0           1.4          0.2  Iris-setosa\n",
       "2           4.7          3.2           1.3          0.2  Iris-setosa\n",
       "3           4.6          3.1           1.5          0.2  Iris-setosa\n",
       "4           5.0          3.6           1.4          0.2  Iris-setosa"
      ]
     },
     "execution_count": 2,
     "metadata": {},
     "output_type": "execute_result"
    }
   ],
   "source": [
    "# Loading the dataset and displaying the first few rows\n",
    "iris_data = pd.read_csv('https://raw.githubusercontent.com/hatixntsoa/iris.classifier/master/data/raw/iris.csv')\n",
    "iris_data.head()"
   ]
  },
  {
   "cell_type": "code",
   "execution_count": 3,
   "id": "920e2160",
   "metadata": {
    "execution": {
     "iopub.execute_input": "2025-09-23T12:39:12.400230Z",
     "iopub.status.busy": "2025-09-23T12:39:12.399805Z",
     "iopub.status.idle": "2025-09-23T12:39:12.415881Z",
     "shell.execute_reply": "2025-09-23T12:39:12.414065Z"
    },
    "papermill": {
     "duration": 0.02331,
     "end_time": "2025-09-23T12:39:12.418051",
     "exception": false,
     "start_time": "2025-09-23T12:39:12.394741",
     "status": "completed"
    },
    "tags": []
   },
   "outputs": [],
   "source": [
    "# Split the data into features (X) and labels (Y)\n",
    "X = iris_data.drop(columns=['species'])\n",
    "Y = iris_data['species']"
   ]
  },
  {
   "cell_type": "code",
   "execution_count": 4,
   "id": "d8fd0eee",
   "metadata": {
    "execution": {
     "iopub.execute_input": "2025-09-23T12:39:12.426019Z",
     "iopub.status.busy": "2025-09-23T12:39:12.425615Z",
     "iopub.status.idle": "2025-09-23T12:39:12.440160Z",
     "shell.execute_reply": "2025-09-23T12:39:12.438986Z"
    },
    "papermill": {
     "duration": 0.020855,
     "end_time": "2025-09-23T12:39:12.442202",
     "exception": false,
     "start_time": "2025-09-23T12:39:12.421347",
     "status": "completed"
    },
    "tags": []
   },
   "outputs": [
    {
     "data": {
      "text/html": [
       "<div>\n",
       "<style scoped>\n",
       "    .dataframe tbody tr th:only-of-type {\n",
       "        vertical-align: middle;\n",
       "    }\n",
       "\n",
       "    .dataframe tbody tr th {\n",
       "        vertical-align: top;\n",
       "    }\n",
       "\n",
       "    .dataframe thead th {\n",
       "        text-align: right;\n",
       "    }\n",
       "</style>\n",
       "<table border=\"1\" class=\"dataframe\">\n",
       "  <thead>\n",
       "    <tr style=\"text-align: right;\">\n",
       "      <th></th>\n",
       "      <th>sepal_length</th>\n",
       "      <th>sepal_width</th>\n",
       "      <th>petal_length</th>\n",
       "      <th>petal_width</th>\n",
       "    </tr>\n",
       "  </thead>\n",
       "  <tbody>\n",
       "    <tr>\n",
       "      <th>0</th>\n",
       "      <td>5.1</td>\n",
       "      <td>3.5</td>\n",
       "      <td>1.4</td>\n",
       "      <td>0.2</td>\n",
       "    </tr>\n",
       "    <tr>\n",
       "      <th>1</th>\n",
       "      <td>4.9</td>\n",
       "      <td>3.0</td>\n",
       "      <td>1.4</td>\n",
       "      <td>0.2</td>\n",
       "    </tr>\n",
       "    <tr>\n",
       "      <th>2</th>\n",
       "      <td>4.7</td>\n",
       "      <td>3.2</td>\n",
       "      <td>1.3</td>\n",
       "      <td>0.2</td>\n",
       "    </tr>\n",
       "    <tr>\n",
       "      <th>3</th>\n",
       "      <td>4.6</td>\n",
       "      <td>3.1</td>\n",
       "      <td>1.5</td>\n",
       "      <td>0.2</td>\n",
       "    </tr>\n",
       "    <tr>\n",
       "      <th>4</th>\n",
       "      <td>5.0</td>\n",
       "      <td>3.6</td>\n",
       "      <td>1.4</td>\n",
       "      <td>0.2</td>\n",
       "    </tr>\n",
       "  </tbody>\n",
       "</table>\n",
       "</div>"
      ],
      "text/plain": [
       "   sepal_length  sepal_width  petal_length  petal_width\n",
       "0           5.1          3.5           1.4          0.2\n",
       "1           4.9          3.0           1.4          0.2\n",
       "2           4.7          3.2           1.3          0.2\n",
       "3           4.6          3.1           1.5          0.2\n",
       "4           5.0          3.6           1.4          0.2"
      ]
     },
     "execution_count": 4,
     "metadata": {},
     "output_type": "execute_result"
    }
   ],
   "source": [
    "# Display the features\n",
    "X.head()"
   ]
  },
  {
   "cell_type": "code",
   "execution_count": 5,
   "id": "f18b66e4",
   "metadata": {
    "execution": {
     "iopub.execute_input": "2025-09-23T12:39:12.453119Z",
     "iopub.status.busy": "2025-09-23T12:39:12.452047Z",
     "iopub.status.idle": "2025-09-23T12:39:12.462997Z",
     "shell.execute_reply": "2025-09-23T12:39:12.461148Z"
    },
    "papermill": {
     "duration": 0.01936,
     "end_time": "2025-09-23T12:39:12.465035",
     "exception": false,
     "start_time": "2025-09-23T12:39:12.445675",
     "status": "completed"
    },
    "tags": []
   },
   "outputs": [
    {
     "data": {
      "text/plain": [
       "0    Iris-setosa\n",
       "1    Iris-setosa\n",
       "2    Iris-setosa\n",
       "3    Iris-setosa\n",
       "4    Iris-setosa\n",
       "Name: species, dtype: object"
      ]
     },
     "execution_count": 5,
     "metadata": {},
     "output_type": "execute_result"
    }
   ],
   "source": [
    "# Display the labels\n",
    "Y.head()"
   ]
  },
  {
   "cell_type": "code",
   "execution_count": 6,
   "id": "2cc1b820",
   "metadata": {
    "execution": {
     "iopub.execute_input": "2025-09-23T12:39:12.474532Z",
     "iopub.status.busy": "2025-09-23T12:39:12.474185Z",
     "iopub.status.idle": "2025-09-23T12:39:12.483077Z",
     "shell.execute_reply": "2025-09-23T12:39:12.481959Z"
    },
    "papermill": {
     "duration": 0.015744,
     "end_time": "2025-09-23T12:39:12.484952",
     "exception": false,
     "start_time": "2025-09-23T12:39:12.469208",
     "status": "completed"
    },
    "tags": []
   },
   "outputs": [],
   "source": [
    "# Split the data into training and testing sets\n",
    "X_train, X_test, Y_train, Y_test = train_test_split(X, Y, test_size=0.2, random_state=42)"
   ]
  },
  {
   "cell_type": "code",
   "execution_count": 7,
   "id": "2b41c860",
   "metadata": {
    "execution": {
     "iopub.execute_input": "2025-09-23T12:39:12.493531Z",
     "iopub.status.busy": "2025-09-23T12:39:12.493196Z",
     "iopub.status.idle": "2025-09-23T12:39:12.508365Z",
     "shell.execute_reply": "2025-09-23T12:39:12.507202Z"
    },
    "papermill": {
     "duration": 0.021601,
     "end_time": "2025-09-23T12:39:12.510265",
     "exception": false,
     "start_time": "2025-09-23T12:39:12.488664",
     "status": "completed"
    },
    "tags": []
   },
   "outputs": [],
   "source": [
    "# Standardize the features\n",
    "scaler = StandardScaler()\n",
    "X_train_scaled = scaler.fit_transform(X_train)\n",
    "X_test_scaled = scaler.fit_transform(X_test)"
   ]
  },
  {
   "cell_type": "code",
   "execution_count": 8,
   "id": "2f0a81a2",
   "metadata": {
    "execution": {
     "iopub.execute_input": "2025-09-23T12:39:12.520331Z",
     "iopub.status.busy": "2025-09-23T12:39:12.518947Z",
     "iopub.status.idle": "2025-09-23T12:39:12.525279Z",
     "shell.execute_reply": "2025-09-23T12:39:12.524028Z"
    },
    "papermill": {
     "duration": 0.012809,
     "end_time": "2025-09-23T12:39:12.527161",
     "exception": false,
     "start_time": "2025-09-23T12:39:12.514352",
     "status": "completed"
    },
    "tags": []
   },
   "outputs": [],
   "source": [
    "# Initialize the ML model using Logistic Regression\n",
    "model = LogisticRegression()"
   ]
  },
  {
   "cell_type": "code",
   "execution_count": 9,
   "id": "e0d3c5ed",
   "metadata": {
    "execution": {
     "iopub.execute_input": "2025-09-23T12:39:12.537455Z",
     "iopub.status.busy": "2025-09-23T12:39:12.535950Z",
     "iopub.status.idle": "2025-09-23T12:39:12.619336Z",
     "shell.execute_reply": "2025-09-23T12:39:12.618301Z"
    },
    "papermill": {
     "duration": 0.090358,
     "end_time": "2025-09-23T12:39:12.621449",
     "exception": false,
     "start_time": "2025-09-23T12:39:12.531091",
     "status": "completed"
    },
    "tags": []
   },
   "outputs": [
    {
     "data": {
      "text/html": [
       "<style>#sk-container-id-1 {color: black;background-color: white;}#sk-container-id-1 pre{padding: 0;}#sk-container-id-1 div.sk-toggleable {background-color: white;}#sk-container-id-1 label.sk-toggleable__label {cursor: pointer;display: block;width: 100%;margin-bottom: 0;padding: 0.3em;box-sizing: border-box;text-align: center;}#sk-container-id-1 label.sk-toggleable__label-arrow:before {content: \"▸\";float: left;margin-right: 0.25em;color: #696969;}#sk-container-id-1 label.sk-toggleable__label-arrow:hover:before {color: black;}#sk-container-id-1 div.sk-estimator:hover label.sk-toggleable__label-arrow:before {color: black;}#sk-container-id-1 div.sk-toggleable__content {max-height: 0;max-width: 0;overflow: hidden;text-align: left;background-color: #f0f8ff;}#sk-container-id-1 div.sk-toggleable__content pre {margin: 0.2em;color: black;border-radius: 0.25em;background-color: #f0f8ff;}#sk-container-id-1 input.sk-toggleable__control:checked~div.sk-toggleable__content {max-height: 200px;max-width: 100%;overflow: auto;}#sk-container-id-1 input.sk-toggleable__control:checked~label.sk-toggleable__label-arrow:before {content: \"▾\";}#sk-container-id-1 div.sk-estimator input.sk-toggleable__control:checked~label.sk-toggleable__label {background-color: #d4ebff;}#sk-container-id-1 div.sk-label input.sk-toggleable__control:checked~label.sk-toggleable__label {background-color: #d4ebff;}#sk-container-id-1 input.sk-hidden--visually {border: 0;clip: rect(1px 1px 1px 1px);clip: rect(1px, 1px, 1px, 1px);height: 1px;margin: -1px;overflow: hidden;padding: 0;position: absolute;width: 1px;}#sk-container-id-1 div.sk-estimator {font-family: monospace;background-color: #f0f8ff;border: 1px dotted black;border-radius: 0.25em;box-sizing: border-box;margin-bottom: 0.5em;}#sk-container-id-1 div.sk-estimator:hover {background-color: #d4ebff;}#sk-container-id-1 div.sk-parallel-item::after {content: \"\";width: 100%;border-bottom: 1px solid gray;flex-grow: 1;}#sk-container-id-1 div.sk-label:hover label.sk-toggleable__label {background-color: #d4ebff;}#sk-container-id-1 div.sk-serial::before {content: \"\";position: absolute;border-left: 1px solid gray;box-sizing: border-box;top: 0;bottom: 0;left: 50%;z-index: 0;}#sk-container-id-1 div.sk-serial {display: flex;flex-direction: column;align-items: center;background-color: white;padding-right: 0.2em;padding-left: 0.2em;position: relative;}#sk-container-id-1 div.sk-item {position: relative;z-index: 1;}#sk-container-id-1 div.sk-parallel {display: flex;align-items: stretch;justify-content: center;background-color: white;position: relative;}#sk-container-id-1 div.sk-item::before, #sk-container-id-1 div.sk-parallel-item::before {content: \"\";position: absolute;border-left: 1px solid gray;box-sizing: border-box;top: 0;bottom: 0;left: 50%;z-index: -1;}#sk-container-id-1 div.sk-parallel-item {display: flex;flex-direction: column;z-index: 1;position: relative;background-color: white;}#sk-container-id-1 div.sk-parallel-item:first-child::after {align-self: flex-end;width: 50%;}#sk-container-id-1 div.sk-parallel-item:last-child::after {align-self: flex-start;width: 50%;}#sk-container-id-1 div.sk-parallel-item:only-child::after {width: 0;}#sk-container-id-1 div.sk-dashed-wrapped {border: 1px dashed gray;margin: 0 0.4em 0.5em 0.4em;box-sizing: border-box;padding-bottom: 0.4em;background-color: white;}#sk-container-id-1 div.sk-label label {font-family: monospace;font-weight: bold;display: inline-block;line-height: 1.2em;}#sk-container-id-1 div.sk-label-container {text-align: center;}#sk-container-id-1 div.sk-container {/* jupyter's `normalize.less` sets `[hidden] { display: none; }` but bootstrap.min.css set `[hidden] { display: none !important; }` so we also need the `!important` here to be able to override the default hidden behavior on the sphinx rendered scikit-learn.org. See: https://github.com/scikit-learn/scikit-learn/issues/21755 */display: inline-block !important;position: relative;}#sk-container-id-1 div.sk-text-repr-fallback {display: none;}</style><div id=\"sk-container-id-1\" class=\"sk-top-container\"><div class=\"sk-text-repr-fallback\"><pre>LogisticRegression()</pre><b>In a Jupyter environment, please rerun this cell to show the HTML representation or trust the notebook. <br />On GitHub, the HTML representation is unable to render, please try loading this page with nbviewer.org.</b></div><div class=\"sk-container\" hidden><div class=\"sk-item\"><div class=\"sk-estimator sk-toggleable\"><input class=\"sk-toggleable__control sk-hidden--visually\" id=\"sk-estimator-id-1\" type=\"checkbox\" checked><label for=\"sk-estimator-id-1\" class=\"sk-toggleable__label sk-toggleable__label-arrow\">LogisticRegression</label><div class=\"sk-toggleable__content\"><pre>LogisticRegression()</pre></div></div></div></div></div>"
      ],
      "text/plain": [
       "LogisticRegression()"
      ]
     },
     "execution_count": 9,
     "metadata": {},
     "output_type": "execute_result"
    }
   ],
   "source": [
    "# Train the model\n",
    "model.fit(X_train_scaled, Y_train)"
   ]
  },
  {
   "cell_type": "code",
   "execution_count": 10,
   "id": "ee144dd1",
   "metadata": {
    "execution": {
     "iopub.execute_input": "2025-09-23T12:39:12.636956Z",
     "iopub.status.busy": "2025-09-23T12:39:12.636567Z",
     "iopub.status.idle": "2025-09-23T12:39:12.648547Z",
     "shell.execute_reply": "2025-09-23T12:39:12.646744Z"
    },
    "papermill": {
     "duration": 0.023308,
     "end_time": "2025-09-23T12:39:12.651589",
     "exception": false,
     "start_time": "2025-09-23T12:39:12.628281",
     "status": "completed"
    },
    "tags": []
   },
   "outputs": [
    {
     "name": "stdout",
     "output_type": "stream",
     "text": [
      "Accuracy = 0.9666666666666667\n"
     ]
    }
   ],
   "source": [
    "# Evaluate the model on the testing set\n",
    "Y_pred = model.predict(X_test_scaled)\n",
    "accuracy = accuracy_score(Y_test, Y_pred)\n",
    "print(f\"Accuracy = {accuracy}\")"
   ]
  },
  {
   "cell_type": "code",
   "execution_count": 11,
   "id": "e6b97699",
   "metadata": {
    "execution": {
     "iopub.execute_input": "2025-09-23T12:39:12.667251Z",
     "iopub.status.busy": "2025-09-23T12:39:12.666880Z",
     "iopub.status.idle": "2025-09-23T12:39:12.672881Z",
     "shell.execute_reply": "2025-09-23T12:39:12.671961Z"
    },
    "papermill": {
     "duration": 0.015781,
     "end_time": "2025-09-23T12:39:12.674629",
     "exception": false,
     "start_time": "2025-09-23T12:39:12.658848",
     "status": "completed"
    },
    "tags": []
   },
   "outputs": [],
   "source": [
    "# Sample new data for predictions\n",
    "new_data = np.array([\n",
    "    [5.1, 3.5, 1.4, 0.2],\n",
    "    [6.3, 2.9, 5.6, 1.8],\n",
    "    [4.9, 3.0, 1.4, 0.2]\n",
    "])"
   ]
  },
  {
   "cell_type": "code",
   "execution_count": 12,
   "id": "c15d04b4",
   "metadata": {
    "execution": {
     "iopub.execute_input": "2025-09-23T12:39:12.696423Z",
     "iopub.status.busy": "2025-09-23T12:39:12.696037Z",
     "iopub.status.idle": "2025-09-23T12:39:12.701706Z",
     "shell.execute_reply": "2025-09-23T12:39:12.700896Z"
    },
    "papermill": {
     "duration": 0.016959,
     "end_time": "2025-09-23T12:39:12.703937",
     "exception": false,
     "start_time": "2025-09-23T12:39:12.686978",
     "status": "completed"
    },
    "tags": []
   },
   "outputs": [],
   "source": [
    "# Standardize the new data\n",
    "new_data_scaled = scaler.fit_transform(new_data) "
   ]
  },
  {
   "cell_type": "code",
   "execution_count": 13,
   "id": "6f65b302",
   "metadata": {
    "execution": {
     "iopub.execute_input": "2025-09-23T12:39:12.718823Z",
     "iopub.status.busy": "2025-09-23T12:39:12.718445Z",
     "iopub.status.idle": "2025-09-23T12:39:12.729282Z",
     "shell.execute_reply": "2025-09-23T12:39:12.727922Z"
    },
    "papermill": {
     "duration": 0.020614,
     "end_time": "2025-09-23T12:39:12.731551",
     "exception": false,
     "start_time": "2025-09-23T12:39:12.710937",
     "status": "completed"
    },
    "tags": []
   },
   "outputs": [
    {
     "name": "stdout",
     "output_type": "stream",
     "text": [
      "Predictions = ['Iris-setosa' 'Iris-virginica' 'Iris-setosa']\n"
     ]
    }
   ],
   "source": [
    "# Make predictions\n",
    "predictions = model.predict(new_data_scaled)\n",
    "\n",
    "# Display the predictions\n",
    "print(f\"Predictions = {predictions}\")"
   ]
  }
 ],
 "metadata": {
  "kaggle": {
   "accelerator": "none",
   "dataSources": [],
   "dockerImageVersionId": 31089,
   "isGpuEnabled": false,
   "isInternetEnabled": true,
   "language": "python",
   "sourceType": "notebook"
  },
  "kernelspec": {
   "display_name": "Python 3",
   "language": "python",
   "name": "python3"
  },
  "language_info": {
   "codemirror_mode": {
    "name": "ipython",
    "version": 3
   },
   "file_extension": ".py",
   "mimetype": "text/x-python",
   "name": "python",
   "nbconvert_exporter": "python",
   "pygments_lexer": "ipython3",
   "version": "3.11.13"
  },
  "papermill": {
   "default_parameters": {},
   "duration": 13.454913,
   "end_time": "2025-09-23T12:39:13.463233",
   "environment_variables": {},
   "exception": null,
   "input_path": "__notebook__.ipynb",
   "output_path": "__notebook__.ipynb",
   "parameters": {},
   "start_time": "2025-09-23T12:39:00.008320",
   "version": "2.6.0"
  }
 },
 "nbformat": 4,
 "nbformat_minor": 5
}
